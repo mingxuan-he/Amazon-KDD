{
 "cells": [
  {
   "cell_type": "markdown",
   "metadata": {},
   "source": [
    "### UPDATE REVIEW FEATURE\n",
    "\n",
    "Plan:\n",
    "* Inport review dataset [done]\n",
    "* Groupby reviews in new way (append number of upvotes at the end of each review) [done]\n",
    "* Generate dictionary with ID as key and concatenated REVIEW as value \n",
    "\n",
    "* Get list of all PINECONE IDs (parent_asin)\n",
    "* For each Pinecone ID, match with parent_asin in dictionary, and update VALUE"
   ]
  },
  {
   "cell_type": "code",
   "execution_count": 1,
   "metadata": {},
   "outputs": [],
   "source": [
    "import pandas as pd\n",
    "import json"
   ]
  },
  {
   "cell_type": "code",
   "execution_count": 2,
   "metadata": {},
   "outputs": [
    {
     "data": {
      "text/plain": [
       "2500939"
      ]
     },
     "execution_count": 2,
     "metadata": {},
     "output_type": "execute_result"
    }
   ],
   "source": [
    "filepath = '/Users/ez/Downloads/Amazon_Fashion.jsonl'\n",
    "\n",
    "# # Read some\n",
    "# with open(filepath, 'r') as f:\n",
    "#     reviews = []\n",
    "#     # Read and parse the first 10,000 lines as JSON data\n",
    "#     for _ in range(100000):\n",
    "#         line = f.readline()\n",
    "#         if line:\n",
    "#             try:\n",
    "#                 reviews.append(json.loads(line))\n",
    "#             except json.JSONDecodeError:\n",
    "#                 # Handle malformed JSON lines, if any\n",
    "#                 pass\n",
    "\n",
    "# Read all\n",
    "with open(filepath, 'r') as f:\n",
    "    reviews = []\n",
    "    for line in f:\n",
    "        try:\n",
    "            reviews.append(json.loads(line))\n",
    "        except ValueError:\n",
    "            pass\n",
    "\n",
    "len(reviews)"
   ]
  },
  {
   "cell_type": "code",
   "execution_count": 3,
   "metadata": {},
   "outputs": [],
   "source": [
    "reviews = pd.DataFrame(reviews)"
   ]
  },
  {
   "cell_type": "code",
   "execution_count": 4,
   "metadata": {},
   "outputs": [
    {
     "name": "stdout",
     "output_type": "stream",
     "text": [
      "length reviews before 2500939\n",
      "length reviews after 2337702\n"
     ]
    }
   ],
   "source": [
    "# REVIEWS: Drop rows where VERIFIED_PURCHASE == False\n",
    "print('length reviews before', len(reviews))\n",
    "reviews = reviews[reviews['verified_purchase'] == True]\n",
    "print('length reviews after', len(reviews))"
   ]
  },
  {
   "cell_type": "code",
   "execution_count": 5,
   "metadata": {},
   "outputs": [],
   "source": [
    "# REVIEWS: Drop verified_rows col\n",
    "reviews = reviews.drop(columns=['verified_purchase'])"
   ]
  },
  {
   "cell_type": "code",
   "execution_count": 6,
   "metadata": {},
   "outputs": [
    {
     "data": {
      "text/html": [
       "<div>\n",
       "<style scoped>\n",
       "    .dataframe tbody tr th:only-of-type {\n",
       "        vertical-align: middle;\n",
       "    }\n",
       "\n",
       "    .dataframe tbody tr th {\n",
       "        vertical-align: top;\n",
       "    }\n",
       "\n",
       "    .dataframe thead th {\n",
       "        text-align: right;\n",
       "    }\n",
       "</style>\n",
       "<table border=\"1\" class=\"dataframe\">\n",
       "  <thead>\n",
       "    <tr style=\"text-align: right;\">\n",
       "      <th></th>\n",
       "      <th>rating</th>\n",
       "      <th>title</th>\n",
       "      <th>text</th>\n",
       "      <th>images</th>\n",
       "      <th>asin</th>\n",
       "      <th>parent_asin</th>\n",
       "      <th>user_id</th>\n",
       "      <th>timestamp</th>\n",
       "      <th>helpful_vote</th>\n",
       "    </tr>\n",
       "  </thead>\n",
       "  <tbody>\n",
       "    <tr>\n",
       "      <th>0</th>\n",
       "      <td>5.0</td>\n",
       "      <td>Pretty locket</td>\n",
       "      <td>I think this locket is really pretty. The insi...</td>\n",
       "      <td>[]</td>\n",
       "      <td>B00LOPVX74</td>\n",
       "      <td>B00LOPVX74</td>\n",
       "      <td>AGBFYI2DDIKXC5Y4FARTYDTQBMFQ</td>\n",
       "      <td>1578528394489</td>\n",
       "      <td>3</td>\n",
       "    </tr>\n",
       "    <tr>\n",
       "      <th>1</th>\n",
       "      <td>5.0</td>\n",
       "      <td>A</td>\n",
       "      <td>Great</td>\n",
       "      <td>[]</td>\n",
       "      <td>B07B4JXK8D</td>\n",
       "      <td>B07B4JXK8D</td>\n",
       "      <td>AFQLNQNQYFWQZPJQZS6V3NZU4QBQ</td>\n",
       "      <td>1608426246701</td>\n",
       "      <td>0</td>\n",
       "    </tr>\n",
       "    <tr>\n",
       "      <th>2</th>\n",
       "      <td>2.0</td>\n",
       "      <td>Two Stars</td>\n",
       "      <td>One of the stones fell out within the first 2 ...</td>\n",
       "      <td>[]</td>\n",
       "      <td>B007ZSEQ4Q</td>\n",
       "      <td>B007ZSEQ4Q</td>\n",
       "      <td>AHITBJSS7KYUBVZPX7M2WJCOIVKQ</td>\n",
       "      <td>1432344828000</td>\n",
       "      <td>3</td>\n",
       "    </tr>\n",
       "    <tr>\n",
       "      <th>3</th>\n",
       "      <td>1.0</td>\n",
       "      <td>Won’t buy again</td>\n",
       "      <td>Crappy socks. Money wasted. Bought to wear wit...</td>\n",
       "      <td>[]</td>\n",
       "      <td>B07F2BTFS9</td>\n",
       "      <td>B07F2BTFS9</td>\n",
       "      <td>AFVNEEPDEIH5SPUN5BWC6NKL3WNQ</td>\n",
       "      <td>1546289847095</td>\n",
       "      <td>2</td>\n",
       "    </tr>\n",
       "    <tr>\n",
       "      <th>4</th>\n",
       "      <td>5.0</td>\n",
       "      <td>I LOVE these glasses</td>\n",
       "      <td>I LOVE these glasses!  They fit perfectly over...</td>\n",
       "      <td>[]</td>\n",
       "      <td>B00PKRFU4O</td>\n",
       "      <td>B00XESJTDE</td>\n",
       "      <td>AHSPLDNW5OOUK2PLH7GXLACFBZNQ</td>\n",
       "      <td>1439476166000</td>\n",
       "      <td>0</td>\n",
       "    </tr>\n",
       "  </tbody>\n",
       "</table>\n",
       "</div>"
      ],
      "text/plain": [
       "   rating                 title  \\\n",
       "0     5.0         Pretty locket   \n",
       "1     5.0                     A   \n",
       "2     2.0             Two Stars   \n",
       "3     1.0       Won’t buy again   \n",
       "4     5.0  I LOVE these glasses   \n",
       "\n",
       "                                                text images        asin  \\\n",
       "0  I think this locket is really pretty. The insi...     []  B00LOPVX74   \n",
       "1                                              Great     []  B07B4JXK8D   \n",
       "2  One of the stones fell out within the first 2 ...     []  B007ZSEQ4Q   \n",
       "3  Crappy socks. Money wasted. Bought to wear wit...     []  B07F2BTFS9   \n",
       "4  I LOVE these glasses!  They fit perfectly over...     []  B00PKRFU4O   \n",
       "\n",
       "  parent_asin                       user_id      timestamp  helpful_vote  \n",
       "0  B00LOPVX74  AGBFYI2DDIKXC5Y4FARTYDTQBMFQ  1578528394489             3  \n",
       "1  B07B4JXK8D  AFQLNQNQYFWQZPJQZS6V3NZU4QBQ  1608426246701             0  \n",
       "2  B007ZSEQ4Q  AHITBJSS7KYUBVZPX7M2WJCOIVKQ  1432344828000             3  \n",
       "3  B07F2BTFS9  AFVNEEPDEIH5SPUN5BWC6NKL3WNQ  1546289847095             2  \n",
       "4  B00XESJTDE  AHSPLDNW5OOUK2PLH7GXLACFBZNQ  1439476166000             0  "
      ]
     },
     "execution_count": 6,
     "metadata": {},
     "output_type": "execute_result"
    }
   ],
   "source": [
    "reviews.head()"
   ]
  },
  {
   "cell_type": "code",
   "execution_count": 7,
   "metadata": {},
   "outputs": [],
   "source": [
    "# Reformat function\n",
    "def reformat_review(text, upvotes):\n",
    "    reformatted = \"{} Upvoted: '{}'\".format(upvotes, text)\n",
    "    return reformatted"
   ]
  },
  {
   "cell_type": "code",
   "execution_count": 8,
   "metadata": {},
   "outputs": [],
   "source": [
    "# Apply\n",
    "reviews['text_w_vote'] = reviews.apply(lambda row: reformat_review(row['text'], row['helpful_vote']), axis=1)"
   ]
  },
  {
   "cell_type": "code",
   "execution_count": 9,
   "metadata": {},
   "outputs": [],
   "source": [
    "# DROP UNNEEDED COLUMNS - everything but parent_asin, text_w_vote\n",
    "reviews = reviews.drop(columns=['rating', 'title', 'text', 'images', 'asin', 'user_id', 'timestamp'])"
   ]
  },
  {
   "cell_type": "code",
   "execution_count": 10,
   "metadata": {},
   "outputs": [
    {
     "data": {
      "text/html": [
       "<div>\n",
       "<style scoped>\n",
       "    .dataframe tbody tr th:only-of-type {\n",
       "        vertical-align: middle;\n",
       "    }\n",
       "\n",
       "    .dataframe tbody tr th {\n",
       "        vertical-align: top;\n",
       "    }\n",
       "\n",
       "    .dataframe thead th {\n",
       "        text-align: right;\n",
       "    }\n",
       "</style>\n",
       "<table border=\"1\" class=\"dataframe\">\n",
       "  <thead>\n",
       "    <tr style=\"text-align: right;\">\n",
       "      <th></th>\n",
       "      <th>parent_asin</th>\n",
       "      <th>helpful_vote</th>\n",
       "      <th>text_w_vote</th>\n",
       "    </tr>\n",
       "  </thead>\n",
       "  <tbody>\n",
       "    <tr>\n",
       "      <th>0</th>\n",
       "      <td>B00LOPVX74</td>\n",
       "      <td>3</td>\n",
       "      <td>3 Upvoted: 'I think this locket is really pret...</td>\n",
       "    </tr>\n",
       "    <tr>\n",
       "      <th>1</th>\n",
       "      <td>B07B4JXK8D</td>\n",
       "      <td>0</td>\n",
       "      <td>0 Upvoted: 'Great'</td>\n",
       "    </tr>\n",
       "  </tbody>\n",
       "</table>\n",
       "</div>"
      ],
      "text/plain": [
       "  parent_asin  helpful_vote                                        text_w_vote\n",
       "0  B00LOPVX74             3  3 Upvoted: 'I think this locket is really pret...\n",
       "1  B07B4JXK8D             0                                 0 Upvoted: 'Great'"
      ]
     },
     "execution_count": 10,
     "metadata": {},
     "output_type": "execute_result"
    }
   ],
   "source": [
    "reviews[:2]"
   ]
  },
  {
   "cell_type": "markdown",
   "metadata": {},
   "source": [
    "#### GROUPING\n",
    "\n",
    "NEW APPROACH (PINECONE BYTE LIMIT 40960)\n",
    "\n",
    "write code to \n",
    "\n",
    "1. group by ID column\n",
    "2. concatenate review text into a new column, but starting with the reviews that have the most upvotes\n",
    "3. run lambda\n",
    "4. apply function: if len of this new review column is > limit, truncate to first 40000 "
   ]
  },
  {
   "cell_type": "code",
   "execution_count": 11,
   "metadata": {},
   "outputs": [],
   "source": [
    "# Sort the DataFrame by 'ID' and 'upvotes' in descending order\n",
    "reviews = reviews.sort_values(by=['parent_asin', 'helpful_vote'], ascending=[True, False])"
   ]
  },
  {
   "cell_type": "code",
   "execution_count": 12,
   "metadata": {},
   "outputs": [],
   "source": [
    "# Group the DataFrame by 'ID' and concatenate 'review_text' starting with the highest upvotes\n",
    "reviews_grouped = reviews.groupby('parent_asin')['text_w_vote'].apply(lambda x: ' '.join(x))"
   ]
  },
  {
   "cell_type": "code",
   "execution_count": 48,
   "metadata": {},
   "outputs": [],
   "source": [
    "# Create a new DataFrame with the grouped data\n",
    "reviews_concat = pd.DataFrame({'parent_asin': reviews_grouped.index, 'concat_reviews': reviews_grouped.values})"
   ]
  },
  {
   "cell_type": "code",
   "execution_count": 49,
   "metadata": {},
   "outputs": [
    {
     "data": {
      "text/plain": [
       "parent_asin                                                                                                                                                                                                                                                                                                                                                                                                                                                                                                                                                                                                                                                                                                                                                                                                                                                                                                                                                                                                                                                                                                                                                                                                                                                                                                                                                                                                                                                                                                                                                                                                                                                                                                                                                                                                                                                                                                                                                                                                                                                                                                                                                                                                                                                                                                                                                                                                                                                                                                                                                                                                                                                                                                                                                                                                                                                                                                                                                                                                                                                                                                                                                                                                                                                                                                                                                                                                                                                                                                                                                                                                                                                                                                                                                                                                                                                                                                                                                                                                                                                                                                                                                                                                                                                                                                                                                                                                                                                                                                                                                                                                                                                                                                                                                                                                                                                                                                                                                                                                                                                                                                                                                                                                                                                                                                                                                                                                                                                                                                                                                                                                                                                                                                                                                                                                                                                                                                                                                                                                                                                                                                                                                                                                                                                                                                                                                                                                                                                                                                                                                                                                                                                                                                                                                                                                                                                                                                                                                                                                                                                                                                                                                                                                                                                                                                                                                                                                                                                                                                                                                                                                                                                                                                                                                                                                                                                                                                                                                                                                                                                                                                                                                                                                                                                                                                                                                                                                                                                                                                                                                                                                                                                                                                                                                                                                                                                                                                                                                                                                                                                                                                                                                                                                                                                                                                                                                                                                                                                                                                                                                                                                                                                                                                                                                                                                                                                                                                                                                                                                                                                                                                                                                                                                                                                                                                                                                                                                                                                                                                                                                                                                                                                                                                                                                                                                                                                                                                                                                                                                                                                                                                                                                                                                                                                                                                                                                                                                                                                                                                                                                                                                                                                                                                                                                                                                                                                                                                                                                                                                                                                                                                                                                                                                                                                                                                                                                                                                                                                                                                                                                                                                                                                                                                                                                                                                                                                                                                                                                                                                                                                                                                                                                                                                                                                                                                                                                                                                                                                                                                                                                                                                                                                                                                                                                                                                                                                                                                                                                                                                                                                                                                                                                                                                                                                                                                                                                                                                                                                                                                                                                                                                                                                                                                                                                                                                                                                                                                                                                                                                                                                                                                                                                                                                                                                                                                                                                                                                                                                                                                                                                                                                                                                                                                                                                                                                                                                                                                                                                                                                                                                                                                                                                                                                                                                                                                                                                                                                                                                                                                                                                                                                                                                                                                                                                                                                                                                                                                                                                                                                                                                                                                                                                                                                                                                                                                                                                                                                                                                                                                                                                                                                                                                                                                                                                                                                                                                                                                                                                                                                                                                                                                                                                                                                                                                                                                                                                                                                                                                                                                                                                                                                                                                                                                                                                                                                                                                                                                                                                                                                                                                                                                                                                                                                                                                                                                                                                                                                                                                                                                                                                                                                                                                                                                                                                                                                                                                                                                                                                                                                                                                                                                                                                                                                                                                                                                                                                                                                                                                                                                                                                                                                                                                                                                                                                                                                                                                                                                                                                                                                                                                                                                                                                                                                                                                                                                                                                                                                                                                                                                                                                                                                                                                                                                                                                                                                                                                                                                                                                                                                                                                                                                                                                                                                                                                                                                                                                                                                                                                                                                                                                                                                                                                                                                                                                                                                                                                                                                                                                                                                                                                                                                                                                                                                                                                                                                                                                                                                                                                                                                                                                                                                                                                                                                                                                                                                                                                                                                                                                                                                                                                                                                                                                                                                                                                                                                                                                                                                                                                                                                                                                                                                                                                                                                                                                                                                                                                                                                                                                                                                                                                                                                                                                                                                                                                                                                                                                                                                                                                                                                                                                                                                                                                                                                                                                                                                                                                                                                                                                                                                                                                                                                                                                                                                                                                                                                                                                                                                                                                                                                                                                                                                                                                                                                                                                                                                                                                                                                                                                                                                                                                                                                                                                                                                                                                                                                                                                                                                                                                                                                                                                                                                                                                                                                                                                                                                                                                                                                                                                                                                                                                                                                                                                                                                                                                                                                                                                                                                                                                                                                                                                                                                                                                                                                                                                                                                                                                                                                                                                                                                                                                                                                                                                                                                                                                                                                                                                                                                                                                                                                                                                                                                                                                                                                                                                                                                                                                                                                                                                                                                                                                                                                                                                                                                                                                                                                                                                                                                                                                                                                                                                                                                                                                                                                                                                                                                                                                                                                                                                                                                                                                                                                                                                                                                                                                                                                                                                 B000XEX8AW\n",
       "concat_reviews    32 Upvoted: 'This mask has great potential for my puposes. It is sturdy and solid. Mine had no air bubbles in the cast and all of the stiches are molded nicely and well painted. However my plan is to scrape off the stitches as I am going as comic cat woman and not Michelle Pfeiffer catwoman.<br />this mask is definitely molded for one size of head. I'm not sure how to measure this, but if you are in doubt about whether or not it will fit, it fits me pretty well, so here are some of my measurements:<br /><br />Circumference, parallel to the ground, around my forehead:<br />21.5&#34;<br /><br />Circumference round my face, in front of the ears, to under my chin:<br />22.5&#34;<br /><br />I hope that helps at all.<br /><br />The chin strap on this mask is strange though. It is as if the stap is supposed to go on your chin as opposed to under it.<br />the angle of it is weird, and because of this I might cut it off.<br />The left eye hole I'm this mask seems larger than the right.<br />This mask has a keyhole cut into the back, so that you can get it on. My plan is to put holes in this so that I can lace it shut, but it doesn't gape open on my head or anything.<br />also molded into the back of the cowl are the words &#34;MADE IN CHINA&#34; and &#34;C 2014 DC COMICS Inc&#34;<br />They easily could have put this on the inside. But it not terribly obvious or ugly.<br /><br />Over all this is a very good mask. There isn't another one like it.' 28 Upvoted: 'Let me start by saying that unless you are in the 1% of the population that has the perfect shaped head for this mask, you're going to have issues with it and need to modify it. The space for the head is huge. I can only assume it was designed that way to accommodate for girls with really long and voluminous hair. If you have short hair, you should plan ahead to have to pad the inside or else it will dent in. I used Kleenex with a wig cap.<br /><br />The chin strap on this thing is awkwardly made. It should have been designed to fit under the chin, but instead it is manufactured to rest on the chin. If you try to put it under your chin, the mask will crease awkwardly. I ended up cutting it off, which of course then created the problem that the mask did not want to stay on.<br /><br />You will sweat if you wear this mask for any decent length of time. Not surprisingly, when you sweat, it will slide up on your face. My biggest battle with this mask was keeping it in place. I was constantly having to pull it down.<br /><br />The back of the mask has a slit down the middle so that it will fit over your head but no way to keep the slit closed once the mask is on. If you don't want it flapped open awkwardly, you will have to install some type of closure. I used velcro, which I don't recommend because it didn't want to stay a lot of the time. If I had to do it over again(which I might next year), I would use a hook and eye closure system.<br /><br />Also, the back of the mask does not go down all the way onto your neck. The bottom of your hairline will show. Depending on which version of Cat Woman you're doing, this is fine. Since I was going for the Michelle Pfeiffer look, it was a bit irritating.<br /><br />I have to give this mask 3 stars just for existing. If you're into cosplay, it will save you a lot of time designing your own mask, but please know that you will still have to work with it a bit.' 27 Upvoted: 'I'm 5'2, I DON'T have a large head, it was tight but the MASK looked great with my costume....if you have THICK HAIR or really long hair, you may HAVE an extremely difficult time wearing this mask. I have a short natural afro.' 18 Upvoted: 'Fits very small. The rubber over the nose can be uncomfortable and squish the skin around the eyes. Even after removing the chin strap and adding some size to the eye holes, it was still a very tight fitting mask. Fun accessory to have, less fun to wear.' 16 Upvoted: 'This mask is cool!! I wore it to a party.... The only thing it is hot as heck... Naturally because it's a full mask... But I received compliments like crazy on it. I had to cut it and trim it to make it work for me.... And the chin strap was the first to go cause it was just wierd. But overall there's no comparison to it. Loved it! Great buy.' 12 Upvoted: 'Was worried after reading reviews but took a chance. Used Velcro in the back to keep it together. I did not have to cut the strap but I did alter the eye holes & cut the bridge of the nose. I bought wax string and went over the stitching with it as well as made the bridge of the nose extended with the string to ease on the tension that the mask does have in that area.. Great mask, worth the money. I had it on for a whole night and it wasn't to hot like other comments said. I used a hair wig cap to help to hold my hair under it.' 7 Upvoted: 'My 7 year old daughter wanted to be catwoman for Halloween but didn't want to wear a cheesy costume.  I found this mask on Amazon.com for a great low price, well worth the money!  It is an adult costume but rather tight for my face.  A little loose for my daughter's but no complaints what-so-ever.  It was a total hit at her school, everyone loved it.  Will be wearing this for another Halloween in the future!' 6 Upvoted: 'it is tight so it wont fall off. I don't like the  jaw strap so I'm going to cut it off, problem fixed. The white paint isn't perfect, so it looks more authentic.It isn't as shiny as is the picture but that's ok. The jaw strap is really sticky, but of course it's like that because its plastic, very durable plastic I might add. If you always breakout use baby powder or something to make it feel better. It makes your hearing a little off, but you get used to it, it also came a week early.' 6 Upvoted: 'Great mask! I've received compliments and pictures all evening. One issue though. After an hour, the bridge area of my nose began to hurt. After partying in it for several hours and taking it off. I was in pain. My nose hurt for two weeks.<br /><br />I have a small framed face and I don't have big nose, but for those that have a bigger nose than I?  Don't purchase it. It fits very snug.' 5 Upvoted: 'It is not one size fit all mask... Runs really small so you might have to slit it with a knife to make it bigger so it doesn't suffocate your face. The quality of the mask is rubber like hard but the designs on there are nice. I got countless compliment although I suffered wearing it for several hours.... Left rubber marks and redness for hour slight itching... But next day I was fine...therefore, don't plan on wearing it more than an hour without it bothering you.' 5 Upvoted: 'As most everyone else said, the fit is very horrible. Too small for adult heads (unless you have a smaller head/face). I did have to end up cutting bottom jaw strap and widening the eye hole more. It still felt too tight on face, so I took suggestion of another reviewer. I made a cut in a cheek area and extended it using wax string. To camouflage the opened area , I put black electric tape in the back of the wax string . It fit much better. I placed wedge sponges in the ear to make it more stiff.<br /><br />If you do have long thick hair, it will make the back of the mask look bulky. The back has an open to it with no Velco or securing flap, so some people may wish to add that to make the mask close better.<br /><br />Overall, for the cheap price , it seems to be the most accurate in terms of looks. If you are wearing this for a one time party or event, it may be worth getting and altering. If you are hoping to cosplay catwoman more frequently or serious , I recommend spending more ($160-190) for a more authentic and better fitting mask.' 5 Upvoted: 'This mask works well for a base mask. Definitely didn't fit me well as I don't have a round head. It was tight around my cheeks and I had to cut the chin strap off. It does stretch over time so that's good. I am doing a distressed look so I am making more cuts in it which makes it more comfortable to wear. This mask definitely looks better if you work on it. The stitches are painted on with grey paint and the eye sockets were way too small compared to the mask in the movie. I painted the stitches white and fixed the eye sockets as it looks a lot better. Didn't like how it has the DC COMICS on the back of the mask instead of the inside of it. There's a opening on the back but I think i'll just sew it closed and make extra stitches. Like I said, it's not bad. It's a good working base, but you just have to make it better.' 4 Upvoted: 'The mask looks great and man did I want it to work. That chin strap is a joke, like many others that was the first thing to get cut. I find that when I place the mask in a comfortable position the bottom of the eye socket hits me right in the eye and its not like I can cut that part since its already thin to begin with. I tried widening it a little bit by cutting the eye socket at the top. The spot where the mask lays on your nose begins to irritate, to solve that issue I cut a small piece of a makeup sponge and glued it and it relieved the pain immediately.' 3 Upvoted: 'At first I thought it was too small, but I was actually wearing it wrong..lol but it fits well and looks pretty good. There's a slit in the back to make for easy slip ins and offs, and long hair is easily tucked away inside the mask. Honestly I wasn't expecting a whole lot, but I'm actually really happy with what I have.' 3 Upvoted: 'absolute trash, originally meant for me but it didnt fit at all. I cut the chin strap and some of the back to see if it would fit better, but no. nothing could make this thing fit<br /><br />have a nose? can't wear it. and' 3 Upvoted: 'I love this mask. It fit perfectly. I was a little worried when I read the reviews and they said it was small. The chinstrap is a little weird, so I cut it off. With this mask and the accessories i had I was the center of attention.' 2 Upvoted: 'A great reproduction of Michelle Pfeiffer's Catwoman mask which came after the original one having a full rubber face included.' 2 Upvoted: 'Helped us win a costume contest. It was really small but my boyfriend has a big head so that's his fault.' 2 Upvoted: 'The chin strap fit very awkwardly, and it was pretty tight. That would have bothered me so much but I just don't think it looked very good on me. Maybe without the chin strap, but I just returned it instead.' 2 Upvoted: 'I made some adjustments and it's perfect now.' 2 Upvoted: 'fits my head well but comes with a chinstrap that does not look authentic to the movie and makes it look weird so I had to cut it off to make it look more authentic. had some sticky stuff in the forehead part inside of the mask and it stuck to my skin and hair but I got it off. Ears where a bit flimsy so I had to stuff paper towels into them to make them stand up. All in all it is a good mask for the price.' 2 Upvoted: 'Super excited to have received this so quickly. It fits great but is definitely snug on the cheeks and nose. I want to cut it but I don't want to ruin it. I will probably end up buying a custom made cowl. Definitely worth under $30 but save your pennies and get the good version of this mask. ;)' 2 Upvoted: 'Fit myself and my 7 year old daughter well, however if you have long hair it's VERY difficult to get all your hair in the cap. Also no holes in ear area and can't hear a lick with the mask on. Otherwise, a good looking mask<br />The pickier is of my average size 7 year old' 1 Upvoted: 'was allergic to the plastic, couldn't wear to my Halloween party. ;(' 1 Upvoted: 'They took three weeks. Three whole weeks to deliever this mask to me and then to top it off I got the run around thru the ups. This caused me so much stress.Then when I received it it was way too small and made my face break out in acne and was very itchy.Official costumes are horrible and so is the ups delivery servie. Amazon sucks all together I don't think I will be using this website anymore.' 1 Upvoted: 'Meoow! My daughter had a blast this Halloween with her catwoman mask. I am looking forward to using it myself sometime soon!' 1 Upvoted: 'If your face is tiny, and the bridge of your nose is almost non-existant, it is probably awesome.  The pic looks awesome, especially is you're going for the Michelle Pfeiffer look, But there was no real way to cut it and still make it work.  Unfortunately, I butchered it (so I cannot return it) because I really, really wanted it to work, but I couldn't make it work.' 1 Upvoted: 'My daughter was disappointed in the prominent &#34;Stitches&#34; in this mask.  I know they are part of the Catwoman story -- she supposedly made the mask herself -- but daughter still didn't like it.  She wanted something sleeker and more finished-looking.  Explanations about authenticity did not change her mind.' 1 Upvoted: 'The mask was pretty tight and I found it hard to wear without squashing up my face. I would recommend this to younger buyers, since it didn't really work for me. Despite this, the quality was good for the money.' 1 Upvoted: 'Fits so awkwardly! Had to cut the eye holes and the back. Used elastic bands for a better fit. The end result was closer to the pic advertised after all the alterations. Before it an alien looking shape shifting thing' 1 Upvoted: 'Had too much hair for this outfit. But my bald husband barely pulled it off. And I’ve never been more attracted to him as I was on Halloween night.' 1 Upvoted: 'So small.....I have a small head so i figured the size thing would be ok. My kids even have small heads. this make fits my 4 year old..........yah i can get it on but i think my lips would turn blue before we finished the night. Sent it back' 1 Upvoted: 'Awesome mask! Only a few issues...the chin strap folds in an awkward way while on (it's not really a big deal, that can be fixed). Since there is a slit cut into the back (to aide in putting it on, I presume?), I'll probably be installing some snaps or velcro. The strips below the eyes fit a bit snugly to your face, but other than that, the mask fits comfortably...certainly not too tight. All in all, I am quite pleased with this mask, any problems I have found can be taken care of; it looks great and is very true to the look of the character.' 1 Upvoted: 'This mask is awesome!! It's a little to small for my head but I cut the sides where the mouth opening a little more and it fit better. Still I love it and can't wait to wear it!' 1 Upvoted: 'I had to modify it to wear it, I cut it because the head didn't for right. It looked great for photos only. It was too hot and I had to take it off within 30 minutes.' 1 Upvoted: 'To be honest, it's kinda cheap looking, but it served the purpose of allowing my daughter to be the Michelle Pfeiffer version of Catwoman, which she insists is the only real Catwoman. She's almost 5, and it was a little big on her. It is supposed to be for adults though, so I expected that. I can imagine it would probably be really tight or too small on an adult though.' 1 Upvoted: 'You need To small head and face otherwise this won't fit. It takes so much adjusting and it hurts x.x looks cool once it's in but oi' 1 Upvoted: 'I bought this last year for Halloween and my cheeks are a little too chubby for it. They poke out the mouth hole funny. If you have a thinner face this mask would look amazing for a costume.' 1 Upvoted: 'does not have the neck covered, so buy a  turtleneck or high necked unitard for the rest of the costume. There is no closure for the opening in the back. velcro will work if you don't have a lot of long hair.' 1 Upvoted: 'Tight . May need to alter it smashes my eyes and edges are kind of sharp .' 1 Upvoted: 'i don't know if this mask is either too small, not proportioned for a normal face, or both.<br />when i put this mask on, the eye holes want to be on my forehead and the nose strip kept riding up and digging into my eyes. i could barely pull this mask down into it's intended position. I have a smaller than average head size, too.  this mask definitely will not fit the average adult.' 1 Upvoted: 'Mask was a hit but it does run small, I had to cut the chin strap, and the cheeks and nose and but back together, it just was way too small for my face, but it was perfect for my Halloween costume' 1 Upvoted: 'Had to cut the eye holes bigger - definitely made for someone who has a short face/small head (and that's saying something, as I have a pretty small noggin/face).  Also, the chin strap compresses your face when smiling, making it very unflattering - I cut it off. After said adjustments were made, the mask fits fine.' 1 Upvoted: 'Looked great from the front but was very tight on my (large) nose to the point where I actually had a bruise on my nose by the end of the night. In the back, there is a large slit which is necessary to put it on but very visible. I stapled it closed while I was in costume, which fixed the problem (because of the Tim Burton Catwoman's make-shift aesthetic), but of course I couldn't take it off until the end of the night, which exacerbated the nose issue. Despite its problems, the mask was worth it because I looked fierce.' 1 Upvoted: 'this is way too small.. I can't actually get it on my head. I do have a large head I guess.. but that's still silly.. I will have to cut a larger slit in the back to actually wear it or re-gift it.. disappointed' 1 Upvoted: 'Great mask and good quality' 1 Upvoted: 'I bought this last minute and it shipped really fast and I got it just in time for Halloween and I have gotten a lot of compliments on it.' 1 Upvoted: 'I am so annoyed that i paid $20 for a hat that didn't fit my head much less my 10year olds head. It was WAY Too small. I cut the chin off and it was still way too tight. I was so disappointed as I didn't have time to order another one. I will never order things like this (mask) on amazon again as i'm stuck with it for cutting of the chin.' 1 Upvoted: 'Poor quality control by manufacturer...described as adult size, but would only fit a child, and the eye holes are disproportional...very disappointed, but guess can use as a wall-hanger in my billiards room.' 1 Upvoted: 'This was absolutely terrible. It didn't fit and I wanted my money back but it wasn't worth the return shipping. I don't recommend at all!!!!!' 1 Upvoted: 'Arrived days before expected, had to make a few adjustments but was well worth the money' 1 Upvoted: 'This mask  looks super cool but is WAY too small. Even though it sats its for an adult, I had to cut the chin strap off and cut the nose<br />to make it more comfortable for my 11 year old because it was crushing her face.' 1 Upvoted: 'This was a great mask for my catwoman Halloween costume. It does fit tightly on the head which should be expected from this tight fitting type of costume. There is a strap on the chin section that you cannot see well in the stock photo. It causes the face to  have a scrunched up look and doesn't quite give the Michelle Phiffer look is was going for. I just cut off the strap and then it looked perfect! I received so many compliments from my friends. I would defiantly recommend. I would have given five stars if I didn't have to do the altering. Great product!' 1 Upvoted: 'It is a little snug. I will have to make some adjustments but I love the look it will give my costume. I hope the sacrifice is worth the discomfort. Cute but breathing room needed' 1 Upvoted: 'I have a small head and this fit perfectly. I was able to wear it comfortably all night. I received a ton of compliments on the mask. Very happy with this purchase!' 1 Upvoted: 'Too damn small. Too damn tight, Not even my 15year old sister could fit it. Not worth the money' 1 Upvoted: 'It is not as pretty as it looks in the pic, the rubber is not very soft but ok, it was cheap.' 1 Upvoted: 'So incredibly small and uncomfortable. I had to do some serious cutting before it was even wearable and still was painful. Not made for adult humans' 1 Upvoted: 'I have an oblong face shape anyways, and judging from the other reviews I knew it wasn't going to fit perfectly. But I had to cut it up a bit more for comfort reasons. I cut the chin strap off and trimmed the nose area up a bit and now it fits better :D I'm pretty happy with it :)' 1 Upvoted: 'Looks really good but was right on my face and left a bruise on my nose' 1 Upvoted: 'Before I came to amazon looking for a catwoman mask I couldn't find it anywhere, well for a good price that is. I have a tiny head so I will be using Velcro for the split in the back but other than that I am very satisfied!!' 1 Upvoted: 'It does what I need it to. Yes it does make hearing a little bit difficult, but it goes for the look of Tim Burton's Catwoman. I love it so far.' 1 Upvoted: 'I was most disappointed with this mask. I have a Catwoman mask bought in the mid-90s, not long after the film was released, and the quality of that older mask is still 100 times better than this awful thing. The smell of rubber was putrid, the stitches lazily painted - no nuance, no quality here. The &#34;MADE IN CHINA&#34; stamp was huge on the back - and it was so small my head could barely squeeze in before cutting circulation off around my eyes. Such a shame.' 1 Upvoted: 'The mask is a little snug, but a little stretching out and you'll be fine. Have in mind there is an opening in the back and a chinstrap, you can cut it to fill your needs. Overall, happy with my purchase. Though I must say, Rubies must up their game with their products.' 1 Upvoted: 'It is small .The nose bridge part is very painful no matter how small your nose isIf like me you already cut the chin strap thinking it will fit less painful but it did not or just don't have the time to wait for another mask ,don't worry you have not completely wasted money. If it does not fit you can cut and alter it or if nothing is working it and you it can be made in to the dc comic version of cat woman especially if you all ready have glasses.' 1 Upvoted: 'This mask is beautiful, but it's a horrible size. It will squeeze the hell out of your face. I desperately tried to make this mask work, I cut the chin strap off and trimmed around the eyes. You really have to tinker with this mask if you really want it to work. Other than that, it's very pretty. You will be the center of attention with this mask.' 1 Upvoted: 'This has a horrible fit. Even though it has a slit in the back, it doesn't fit my head properly. I have a normal sized head, and have never had problems with masks before. This fits so tight, it makes your skin bulge. It also gaps where it isn't skin tight. Love the design, but it's pointless because of the horrible fit. It also doesn't lay around the nose correctly. Would never recommend this mask.' 1 Upvoted: 'Absolute trash. I saw a reasonable amount of good reviews so I took the risk but I wish I didn't. It did not fit my face at all and it hurt my nose for a few hours just from trying it on. Don't waste your time, even if it does fit properly I guarantee it will not be comfortable. Definitely returning it and picking a different Halloween Costume.' 1 Upvoted: 'The mask looked awesome, but fit as if it were made for a child. I'm really disappointed.' 0 Upvoted: 'WAY TOO SMALL' 0 Upvoted: 'ok' 0 Upvoted: 'another great costume accessory' 0 Upvoted: 'It is too small and I will be returning it.' 0 Upvoted: 'This mask runs super small. Would've returned it if it hadn't ripped trying to put it on. Not worth the price' 0 Upvoted: 'The mask was too small. It was super uncomfortable.' 0 Upvoted: 'Horrible. Doesn't fit at all.' 0 Upvoted: 'Way too small for adults.' 0 Upvoted: 'Way to small for an adult or someone like me with a round head' 0 Upvoted: 'nice mask, runs small' 0 Upvoted: 'You can tell these masks have been sitting in storage for a while. While the mask details itself are pretty movie accurate, you may want to consider some reshaping to get a nicer fit for your head, or even to fit a display head. And your head will sweat like crazy, even when it does fit. Still pretty cool though.' 0 Upvoted: 'The chin strap doesn't go under the chin. Instead it rides on the chin because the mask is too short for your face. In order to wear it, I would have had to cut the strap off completely. I returned.' 0 Upvoted: 'Pretty good mask for the price just need to cut it open in some areas' 0 Upvoted: 'Will only fit an adult small head of about 4ft tall. Too tight for a 5'5' adult.' 0 Upvoted: 'It might be Adult Size, but the mask fit super tight and was uncomfortable.' 0 Upvoted: 'Awesome fit and awesome quality.  Thank you' 0 Upvoted: 'Really authentic mask. Wish it would have clipped closed in the back though.' 0 Upvoted: 'It was too tight on my face, I tried cutting bottom chin strap area off as well like other reviews said … but it still squished my eyes/cheeks into each other. Didn’t wear it. Photo for reference of my face shape, didn’t take pics with mask on 🤷🏻‍♀️' 0 Upvoted: 'Good !' 0 Upvoted: 'Not a good product. Wouldn't fit three of out heads' 0 Upvoted: 'Was way too small and poorly designed.' 0 Upvoted: 'This doesn't fit a normal sized human.' 0 Upvoted: 'Horrible small misleading' 0 Upvoted: 'It was not like the picture shows on here at all.' 0 Upvoted: 'The fit around the mouth area is really weird' 0 Upvoted: 'Liked it but was a little too small.' 0 Upvoted: 'It’s true it’s too tight around the eye area. I couldn’t picture it and thought I would try since for most things I seem to have a small head. Also, the ears don’t line up and it came dirty. Yuck!' 0 Upvoted: 'Pretty okay' 0 Upvoted: 'Sucks, would not buy again' 0 Upvoted: 'Waste of money.. Unless your head is abnormally small this item wont work well.. Total waste' 0 Upvoted: 'She loves it but it’s way to tight. I will need to customize it for her.' 0 Upvoted: 'Horrible mask was too small' 0 Upvoted: 'Very cool mask but a little tight from the nose and chin. Can be fixed though!! And its good for the price!' 0 Upvoted: 'Worst mask ever.' 0 Upvoted: 'It fits too tight in several spots.' 0 Upvoted: 'to tight In the nose area' 0 Upvoted: 'Unless you have a tiny head this is not for an adult lol. I actually bought this for my 9 year old daughter's costume. It fit her fine but it was super tight on me. I couldn't couldn't hear with it on. Had a small scuff on it when I got it but nothing major. The stitches were faded so I used some white out on the stitches it brightened it up perfectly. Back of it had a slit about 4 or 5 inches for hair. I actually braided her hair to lay flat in it. Worked fine but won't hold a pony tail unless you adjust it accordingly. Also I suggest maybe cutting some of the chin strap and adding some elastic band for comfort.' 0 Upvoted: 'Very snug!!!!' 0 Upvoted: 'To small' 0 Upvoted: 'This item is totally described incorrectly. This does not fit a normal adult head. It is cheap rubber-like material and so uncomfortable. Returning immediately.' 0 Upvoted: 'I love it it was just a bit tight fitting for me.' 0 Upvoted: 'I have a small head, this would fit a toddler.  Great looking mask but extremely small.' 0 Upvoted: 'Mask was too small - I had to keep pulling it down to see.' 0 Upvoted: 'very good' 0 Upvoted: 'To be fair.<br />It too small for my wife wo tried once to put it on and she didn’t cap her long hair. It fits my fat head just fine.' 0 Upvoted: 'Was made without any regard for the human existence of a nose, chin, cheeks, etc. The overall look of the mask was great, but the design proportions were ridiculous. We were forced to cut and mask in numerous places to even fit it on the face.' 0 Upvoted: 'Mask was smaller than expected. Eye holes not as large as they should have been. But for a quick cheap mask i didnt expect much.' 0 Upvoted: 'Just what I expected.' 0 Upvoted: 'If you have a big head like me, don’t bother. I was going to use this for a cosplay and simply cut it up since I was going for a “crazy” Pfeiffer look, but it just wasn’t going to happen. This seems to be more in lines for a child’s head. The sad part is that it is pretty authentic looking. Not shiny, but still pretty spot on. It will crush your nose and eyes and just be really uncomfortable.' 0 Upvoted: 'Tight on my cheeks and it broke towards the end of the night.' 0 Upvoted: 'Looks cool but waaaaay too small for my head/face' 0 Upvoted: 'amazing mask but a little tight.' 0 Upvoted: 'Way too small and no stretch. Unless you cut it and make it fit you'll be wasting your money' 0 Upvoted: 'I don’t like it, and is horrible quality' 0 Upvoted: 'Awful. Couldn't even use. The chin strap is incredibly awkward and smoothed my face. Looked bad and hurt. Very disappointed.' 0 Upvoted: 'looks great will use it next week' 0 Upvoted: 'Mask was way too small. No way this could ever fit an adult’s Head. Even after cutting off the chinstrap it didn’t help. Horrible product.' 0 Upvoted: 'Worked perfect for my photoshoot' 0 Upvoted: 'Fit perfectly, very comfortable on the face. Easy to move around in.' 0 Upvoted: 'Horrible fit! So uncomfortable!' 0 Upvoted: 'Fits very tightly and I have a small head.' 0 Upvoted: 'It was very tight for my 11 year old let alone me to wear it. White faux stitch paint worn off too.' 0 Upvoted: 'Child sizing.' 0 Upvoted: 'Looks wonky.. I tried it on today and my heads to small for it.. not only that but the chin strap really makes me mad haha! But other than that it looks like the one from the movie🤷‍♀️' 0 Upvoted: 'Super super small' 0 Upvoted: 'Not good' 0 Upvoted: 'To small' 0 Upvoted: 'Heard it runs small, but it was good news for me since I always have this issue of things usually fitting me too big on my head. Fits great, I'm putting in a hook and eye clasp on the back to have it close better and cutting some near the eye and around the nose to flatter better but I'm mega excited to wear it with my Catwoman costume this year.' 0 Upvoted: 'It's an ok item, not overly excited about it for the price...' 0 Upvoted: 'The dimensions are off. Definitely will need to alter it.' 0 Upvoted: 'Terrible way to small'\n",
       "Name: 2536, dtype: object"
      ]
     },
     "execution_count": 49,
     "metadata": {},
     "output_type": "execute_result"
    }
   ],
   "source": [
    "reviews_concat.iloc[2536]"
   ]
  },
  {
   "cell_type": "code",
   "execution_count": 50,
   "metadata": {},
   "outputs": [
    {
     "data": {
      "text/plain": [
       "(776976, 2)"
      ]
     },
     "execution_count": 50,
     "metadata": {},
     "output_type": "execute_result"
    }
   ],
   "source": [
    "reviews_concat.shape # As expected!"
   ]
  },
  {
   "cell_type": "code",
   "execution_count": 51,
   "metadata": {},
   "outputs": [
    {
     "data": {
      "text/plain": [
       "Index(['parent_asin', 'concat_reviews'], dtype='object')"
      ]
     },
     "execution_count": 51,
     "metadata": {},
     "output_type": "execute_result"
    }
   ],
   "source": [
    "reviews_concat.columns"
   ]
  },
  {
   "cell_type": "markdown",
   "metadata": {},
   "source": [
    "#### CROP REVIEW TEXT ACCORDING TO BYTE LIMIT"
   ]
  },
  {
   "cell_type": "code",
   "execution_count": 52,
   "metadata": {},
   "outputs": [],
   "source": [
    "def calculate_byte_count(text, encoding='utf-8'):\n",
    "    \"\"\"\n",
    "    Calculate the byte count of a string.\n",
    "\n",
    "    Inputs:\n",
    "        text: The input string.\n",
    "        encoding: The encoding to use (default is UTF-8).\n",
    "    Returns:\n",
    "        byte_count: The number of bytes in the encoded string.\n",
    "    \"\"\"\n",
    "    # Encode the string using the specified encoding\n",
    "    byte_array = text.encode(encoding)\n",
    "    \n",
    "    # Calculate the length of the byte array\n",
    "    byte_count = len(byte_array)\n",
    "    \n",
    "    return byte_count\n",
    "\n",
    "def truncate_string_to_bytes(text, max_bytes, encoding='utf-8'):\n",
    "    \"\"\"\n",
    "    Truncate a string to a specified maximum byte length.\n",
    "\n",
    "    Inputs:\n",
    "        text: The input string.\n",
    "        max_bytes: The maximum number of bytes allowed in the output string.\n",
    "        encoding: The encoding to use (default is UTF-8).\n",
    "    Returns:\n",
    "        truncated_text: The truncated string with a byte count <= max_bytes.\n",
    "    \"\"\"\n",
    "    # Encode the string using the specified encoding\n",
    "    byte_array = text.encode(encoding)\n",
    "    \n",
    "    # Truncate the byte array to the specified maximum length\n",
    "    truncated_byte_array = byte_array[:max_bytes]\n",
    "    \n",
    "    # Decode the truncated byte array back to a string\n",
    "    truncated_text = truncated_byte_array.decode(encoding, errors='ignore')\n",
    "    \n",
    "    return truncated_text\n",
    "\n",
    "def inspect_text_length(text):\n",
    "    \"\"\"\n",
    "    Trims a string if it exceeds the Pinecone metadata byte limit of \n",
    "    40960 bytes.\n",
    "    \"\"\"\n",
    "    max_bytes = 40500\n",
    "\n",
    "    if calculate_byte_count(text) > max_bytes:\n",
    "        truncated_text = truncate_string_to_bytes(text, max_bytes)\n",
    "        return truncated_text\n",
    "    \n",
    "    else:\n",
    "        return text"
   ]
  },
  {
   "cell_type": "code",
   "execution_count": 53,
   "metadata": {},
   "outputs": [],
   "source": [
    "# Do text length inspection\n",
    "reviews_concat['reviews_truncated'] = reviews_concat['concat_reviews'].apply(lambda x: inspect_text_length(x))"
   ]
  },
  {
   "cell_type": "code",
   "execution_count": 70,
   "metadata": {},
   "outputs": [
    {
     "data": {
      "text/plain": [
       "40500"
      ]
     },
     "execution_count": 70,
     "metadata": {},
     "output_type": "execute_result"
    }
   ],
   "source": [
    "max(reviews_concat['len_reviews'])"
   ]
  },
  {
   "cell_type": "code",
   "execution_count": 69,
   "metadata": {},
   "outputs": [],
   "source": [
    "# Drop unneeded col\n",
    "reviews_concat = reviews_concat.drop(columns=['concat_reviews'])"
   ]
  },
  {
   "cell_type": "code",
   "execution_count": 71,
   "metadata": {},
   "outputs": [
    {
     "data": {
      "text/html": [
       "<div>\n",
       "<style scoped>\n",
       "    .dataframe tbody tr th:only-of-type {\n",
       "        vertical-align: middle;\n",
       "    }\n",
       "\n",
       "    .dataframe tbody tr th {\n",
       "        vertical-align: top;\n",
       "    }\n",
       "\n",
       "    .dataframe thead th {\n",
       "        text-align: right;\n",
       "    }\n",
       "</style>\n",
       "<table border=\"1\" class=\"dataframe\">\n",
       "  <thead>\n",
       "    <tr style=\"text-align: right;\">\n",
       "      <th></th>\n",
       "      <th>parent_asin</th>\n",
       "      <th>reviews_truncated</th>\n",
       "      <th>len_reviews</th>\n",
       "    </tr>\n",
       "  </thead>\n",
       "  <tbody>\n",
       "    <tr>\n",
       "      <th>0</th>\n",
       "      <td>0000099813</td>\n",
       "      <td>0 Upvoted: 'I'm 6'1\" and usually get xl but at...</td>\n",
       "      <td>370</td>\n",
       "    </tr>\n",
       "    <tr>\n",
       "      <th>1</th>\n",
       "      <td>0310807115</td>\n",
       "      <td>0 Upvoted: 'I carry my bible and  I le accesso...</td>\n",
       "      <td>119</td>\n",
       "    </tr>\n",
       "  </tbody>\n",
       "</table>\n",
       "</div>"
      ],
      "text/plain": [
       "  parent_asin                                  reviews_truncated  len_reviews\n",
       "0  0000099813  0 Upvoted: 'I'm 6'1\" and usually get xl but at...          370\n",
       "1  0310807115  0 Upvoted: 'I carry my bible and  I le accesso...          119"
      ]
     },
     "execution_count": 71,
     "metadata": {},
     "output_type": "execute_result"
    }
   ],
   "source": [
    "reviews_concat[:2]"
   ]
  },
  {
   "cell_type": "code",
   "execution_count": 55,
   "metadata": {},
   "outputs": [],
   "source": [
    "# Adjust display of text\n",
    "# pd.set_option('display.max_colwidth', None)\n",
    "# pd.set_option('display.max_colwidth', 50)"
   ]
  },
  {
   "cell_type": "code",
   "execution_count": 72,
   "metadata": {},
   "outputs": [],
   "source": [
    "# Make df into dictionary for easy retrieval\n",
    "reviews_dict = reviews_concat.groupby('parent_asin')['reviews_truncated'].apply(list).to_dict()"
   ]
  },
  {
   "cell_type": "code",
   "execution_count": null,
   "metadata": {},
   "outputs": [],
   "source": [
    "# Save\n",
    "# reviews_concat.to_parquet('reviews_truncated_052324.parquet')"
   ]
  },
  {
   "cell_type": "markdown",
   "metadata": {},
   "source": [
    "### Send to Pinecone"
   ]
  },
  {
   "cell_type": "code",
   "execution_count": 74,
   "metadata": {},
   "outputs": [
    {
     "data": {
      "text/plain": [
       "True"
      ]
     },
     "execution_count": 74,
     "metadata": {},
     "output_type": "execute_result"
    }
   ],
   "source": [
    "from dotenv import load_dotenv\n",
    "load_dotenv()"
   ]
  },
  {
   "cell_type": "code",
   "execution_count": 75,
   "metadata": {},
   "outputs": [],
   "source": [
    "# initialize Pinecone vector store\n",
    "import pinecone\n",
    "from pinecone import Pinecone, ServerlessSpec\n",
    "import os"
   ]
  },
  {
   "cell_type": "code",
   "execution_count": 76,
   "metadata": {},
   "outputs": [],
   "source": [
    "PINECONE_API_KEY = os.getenv(\"PINECONE_API_KEY\")\n",
    "pc = Pinecone(api_key=PINECONE_API_KEY)"
   ]
  },
  {
   "cell_type": "code",
   "execution_count": 77,
   "metadata": {},
   "outputs": [],
   "source": [
    "# Load vector store\n",
    "index_name = 'description-embed'\n",
    "if index_name not in pc.list_indexes().names():\n",
    "    pc.create_index(\n",
    "        name=index_name,\n",
    "        dimension=emb_shape[0],\n",
    "        metric='cosine',\n",
    "        spec=ServerlessSpec(\n",
    "            cloud='aws', \n",
    "            region='us-east-1'\n",
    "        )\n",
    "    )"
   ]
  },
  {
   "cell_type": "code",
   "execution_count": 78,
   "metadata": {},
   "outputs": [
    {
     "data": {
      "text/plain": [
       "{'dimension': 3072,\n",
       " 'index_fullness': 0.0,\n",
       " 'namespaces': {'': {'vector_count': 776976}},\n",
       " 'total_vector_count': 776976}"
      ]
     },
     "execution_count": 78,
     "metadata": {},
     "output_type": "execute_result"
    }
   ],
   "source": [
    "description_index = pc.Index(index_name)\n",
    "description_index.describe_index_stats()"
   ]
  },
  {
   "cell_type": "markdown",
   "metadata": {},
   "source": [
    "UPDATE METADATA"
   ]
  },
  {
   "cell_type": "code",
   "execution_count": 83,
   "metadata": {},
   "outputs": [
    {
     "name": "stdout",
     "output_type": "stream",
     "text": [
      "776976\n"
     ]
    }
   ],
   "source": [
    "# ids = set(reviews_dict.keys()) #776976\n",
    "# len(ids)\n",
    "\n",
    "ids = list(reviews_dict.keys())  # Convert to a list for indexing\n",
    "print(len(ids))\n",
    "num_ids = len(ids)"
   ]
  },
  {
   "cell_type": "code",
   "execution_count": null,
   "metadata": {},
   "outputs": [],
   "source": [
    "# DO UPDATE!\n",
    "from tqdm import tqdm\n",
    "\n",
    "# for id in ids:\n",
    "# \tdescription_index.update(\n",
    "# \t\tid = id, \n",
    "# \t\tset_metadata = {\"review\": reviews_dict[id][0]}\n",
    "# \t)\n",
    "\n",
    "ids = list(reviews_dict.keys())  # Convert to a list for indexing\n",
    "num_ids = len(ids)\n",
    "\n",
    "# Define the batch size\n",
    "batch_size = 1000\n",
    "\n",
    "# Create a progress bar\n",
    "pbar = tqdm(total=num_ids, unit='batch')\n",
    "\n",
    "# Split the IDs into batches\n",
    "for i in range(0, num_ids, batch_size):\n",
    "    id_batch = ids[i:i+batch_size]\n",
    "    metadata_batch = [{\"_id\": _id, \"review\": reviews_dict[_id][0]} for _id in id_batch]\n",
    "\n",
    "    # Extract the IDs from the metadata batch\n",
    "    ids_in_batch = [_id['_id'] for _id in metadata_batch]\n",
    "\n",
    "    # Update the metadata in batches, including the IDs\n",
    "    description_index.update(ids=ids_in_batch, set_metadata=metadata_batch)\n",
    "\n",
    "    # Update the progress bar\n",
    "    pbar.update(len(id_batch))\n",
    "\n",
    "pbar.close()"
   ]
  },
  {
   "cell_type": "markdown",
   "metadata": {},
   "source": [
    "PARALLELIZE"
   ]
  },
  {
   "cell_type": "code",
   "execution_count": 102,
   "metadata": {},
   "outputs": [],
   "source": [
    "import itertools\n",
    "import concurrent.futures"
   ]
  },
  {
   "cell_type": "code",
   "execution_count": 114,
   "metadata": {},
   "outputs": [],
   "source": [
    "def chunks(iterable, batch_size=100):\n",
    "    \"\"\"A helper function to break an iterable into chunks of size batch_size.\"\"\"\n",
    "    it = iter(iterable)\n",
    "    chunk = list(itertools.islice(it, batch_size))\n",
    "    while chunk:\n",
    "        yield chunk\n",
    "        chunk = list(itertools.islice(it, batch_size))\n",
    "\n",
    "# ids and review_dict are assumed to be defined\n",
    "ids = list(reviews_dict.keys())\n",
    "\n",
    "def update_review(index_name, id, review_text):\n",
    "    \"\"\"A function to update the review metadata for a single ID.\"\"\"\n",
    "    with Pinecone(api_key=PINECONE_API_KEY, pool_threads=30) as pc:\n",
    "        index = pc.Index(index_name)\n",
    "        index.update(id=id, set_metadata={\"review\": review_text})\n",
    "\n",
    "# Define the maximum number of workers for parallel execution\n",
    "max_workers = 12\n",
    "\n",
    "# Create a list of (id, review_text) tuples for each ID in ids\n",
    "id_review_pairs = [(id, reviews_dict[id]) for id in ids]\n",
    "\n",
    "# Define a function to update review metadata for each id in parallel\n",
    "def parallel_update(id_review_pairs):\n",
    "    with concurrent.futures.ThreadPoolExecutor(max_workers=max_workers) as executor:\n",
    "        # Submit tasks for parallel execution\n",
    "        futures = [executor.submit(update_review, description_index, id, review_text) for id, review_text in id_review_pairs]\n",
    "        # Wait for all tasks to complete\n",
    "        concurrent.futures.wait(futures)\n",
    "\n",
    "# Split id_review_pairs into chunks for parallel processing\n",
    "id_review_chunks = list(chunks(id_review_pairs, batch_size=100)) #0000099813, 0310807115"
   ]
  },
  {
   "cell_type": "code",
   "execution_count": 115,
   "metadata": {},
   "outputs": [],
   "source": [
    "# Perform parallel updates for each chunk\n",
    "for chunk in id_review_chunks:\n",
    "    parallel_update(chunk)"
   ]
  },
  {
   "cell_type": "markdown",
   "metadata": {},
   "source": [
    "PARALLELIZE 2"
   ]
  },
  {
   "cell_type": "code",
   "execution_count": 117,
   "metadata": {},
   "outputs": [],
   "source": [
    "import concurrent.futures\n",
    "\n",
    "# Define the maximum number of workers for parallel execution\n",
    "max_workers = 10\n",
    "\n",
    "# Define a function to update review metadata for a single ID\n",
    "def update_review(id):\n",
    "    description_index.update(\n",
    "        id=id, \n",
    "        set_metadata={\"review\": reviews_dict[id][0]}\n",
    "    )\n",
    "\n",
    "# Create a list of IDs for batch updates\n",
    "ids = list(reviews_dict.keys())\n",
    "\n",
    "# Define the function for parallel execution\n",
    "def parallel_update(ids):\n",
    "    with concurrent.futures.ThreadPoolExecutor(max_workers=max_workers) as executor:\n",
    "        # Submit tasks for parallel execution\n",
    "        futures = [executor.submit(update_review, id) for id in ids]\n",
    "        # Wait for all tasks to complete\n",
    "        concurrent.futures.wait(futures)\n",
    "\n",
    "# Split the list of IDs into chunks for parallel processing\n",
    "batch_size = 1000  # Adjust as needed\n",
    "id_chunks = [ids[i:i+batch_size] for i in range(0, len(ids), batch_size)]"
   ]
  },
  {
   "cell_type": "code",
   "execution_count": 120,
   "metadata": {},
   "outputs": [],
   "source": [
    "# Perform parallel updates for each chunk\n",
    "for chunk in id_chunks:\n",
    "    parallel_update(chunk)"
   ]
  }
 ],
 "metadata": {
  "kernelspec": {
   "display_name": "base",
   "language": "python",
   "name": "python3"
  },
  "language_info": {
   "codemirror_mode": {
    "name": "ipython",
    "version": 3
   },
   "file_extension": ".py",
   "mimetype": "text/x-python",
   "name": "python",
   "nbconvert_exporter": "python",
   "pygments_lexer": "ipython3",
   "version": "3.11.4"
  }
 },
 "nbformat": 4,
 "nbformat_minor": 2
}
