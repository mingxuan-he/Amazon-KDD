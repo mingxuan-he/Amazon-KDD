{
  "nbformat": 4,
  "nbformat_minor": 0,
  "metadata": {
    "colab": {
      "provenance": [],
      "machine_shape": "hm"
    },
    "kernelspec": {
      "name": "python3",
      "display_name": "Python 3"
    },
    "language_info": {
      "name": "python"
    }
  },
  "cells": [
    {
      "cell_type": "markdown",
      "source": [
        "# Node2vec embedding"
      ],
      "metadata": {
        "id": "te58Ch89R2M2"
      }
    },
    {
      "cell_type": "markdown",
      "source": [
        "For this notebook, we create node embedding for all product nodes using node2vec. Afterward, we upload the embedding to pine cone vector database to facilliate searching."
      ],
      "metadata": {
        "id": "xrpCoDVdR5Ke"
      }
    },
    {
      "cell_type": "code",
      "execution_count": null,
      "metadata": {
        "colab": {
          "base_uri": "https://localhost:8080/"
        },
        "id": "162cfichsB8q",
        "outputId": "bfac4319-9b53-415a-fb18-0e130b9de630"
      },
      "outputs": [
        {
          "output_type": "stream",
          "name": "stdout",
          "text": [
            "Mounted at /content/drive\n"
          ]
        }
      ],
      "source": [
        "from google.colab import drive\n",
        "\n",
        "drive.mount('/content/drive')"
      ]
    },
    {
      "cell_type": "code",
      "source": [
        "!pip install graphdatascience"
      ],
      "metadata": {
        "id": "cKF94t2AsUxo"
      },
      "execution_count": null,
      "outputs": []
    },
    {
      "cell_type": "code",
      "source": [
        "# Client import\n",
        "from neo4j import GraphDatabase"
      ],
      "metadata": {
        "id": "NOve9lTPs4Fb"
      },
      "execution_count": null,
      "outputs": []
    },
    {
      "cell_type": "code",
      "source": [
        "AURA_CONNECTION_URI = \"\"\n",
        "AURA_USERNAME = \"\"\n",
        "AURA_PASSWORD = \"\"\n",
        "\n",
        "# connet to pinecone db\n",
        "driver = GraphDatabase.driver(\n",
        "    AURA_CONNECTION_URI,\n",
        "    auth=(AURA_USERNAME, AURA_PASSWORD)\n",
        ")"
      ],
      "metadata": {
        "id": "eQSpw_yktB6d"
      },
      "execution_count": null,
      "outputs": []
    },
    {
      "cell_type": "code",
      "source": [
        "def execute_cypher_command(command):\n",
        "    with driver.session() as session:\n",
        "        result = session.run(command)\n",
        "        return result.data()"
      ],
      "metadata": {
        "id": "IoxyspO91N03"
      },
      "execution_count": null,
      "outputs": []
    },
    {
      "cell_type": "code",
      "source": [
        "# create graph projection, graph name is KDD\n",
        "gds_graph_creation = \"\"\"\n",
        "  CALL gds.graph.project(\n",
        "      \"KDD\",\n",
        "      [\"Product\", \"Store\", \"User\"],\n",
        "      [\"belongs to\", \"comment\"]\n",
        "  ) YIELD\n",
        "  graphName AS graph\n",
        "\"\"\"\n",
        "\n",
        "# Create a driver session\n",
        "graph_name = execute_cypher_command(gds_graph_creation)"
      ],
      "metadata": {
        "id": "TmE4xMtH1x4-"
      },
      "execution_count": null,
      "outputs": []
    },
    {
      "cell_type": "code",
      "source": [
        "# create graph projection, graph name is KDD\n",
        "gds_node2vec_creation = \"\"\"\n",
        "CALL gds.node2vec.write(\"KDD\", {writeProperty: \"embedding\"})\n",
        "\"\"\"\n",
        "\n",
        "# Create a driver session\n",
        "execute_cypher_command(gds_node2vec_creation)"
      ],
      "metadata": {
        "colab": {
          "base_uri": "https://localhost:8080/"
        },
        "id": "JYssWJN1x6OB",
        "outputId": "c8c689f0-6e6d-4420-fb79-727444c45a5a"
      },
      "execution_count": null,
      "outputs": [
        {
          "output_type": "execute_result",
          "data": {
            "text/plain": [
              "[{'nodeCount': 2853146,\n",
              "  'nodePropertiesWritten': 2853146,\n",
              "  'preProcessingMillis': 0,\n",
              "  'computeMillis': 19140,\n",
              "  'writeMillis': 42611,\n",
              "  'configuration': {'writeProperty': 'embedding',\n",
              "   'walkLength': 80,\n",
              "   'walkBufferSize': 1000,\n",
              "   'jobId': '279a3e79-cd5e-408c-af7f-ce5128b3c5be',\n",
              "   'iterations': 1,\n",
              "   'returnFactor': 1.0,\n",
              "   'negativeSamplingRate': 5,\n",
              "   'windowSize': 10,\n",
              "   'sudo': False,\n",
              "   'writeConcurrency': 4,\n",
              "   'positiveSamplingFactor': 0.001,\n",
              "   'inOutFactor': 1.0,\n",
              "   'logProgress': True,\n",
              "   'negativeSamplingExponent': 0.75,\n",
              "   'nodeLabels': ['*'],\n",
              "   'initialLearningRate': 0.025,\n",
              "   'concurrency': 4,\n",
              "   'relationshipTypes': ['*'],\n",
              "   'walksPerNode': 10,\n",
              "   'embeddingInitializer': 'NORMALIZED',\n",
              "   'embeddingDimension': 128,\n",
              "   'minLearningRate': 0.0001},\n",
              "  'lossPerIteration': [0.0]}]"
            ]
          },
          "metadata": {},
          "execution_count": 25
        }
      ]
    },
    {
      "cell_type": "code",
      "source": [
        "# Run a query and get the cursor object\n",
        "session = driver.session()\n",
        "cursor = session.run(\"MATCH (n) RETURN n\")\n",
        "\n",
        "product_embedding= []\n",
        "# Iterate over the results of the query, save only the product nodes\n",
        "for record in cursor:\n",
        "    if list(record[\"n\"].labels)[0] == \"Product\":\n",
        "        product_embedding.append(dict(record[\"n\"].items()))"
      ],
      "metadata": {
        "id": "hW0U_thetRKF"
      },
      "execution_count": null,
      "outputs": []
    },
    {
      "cell_type": "code",
      "source": [
        "import pandas as pd\n",
        "import json\n",
        "\n",
        "# Convert the list of dictionaries to a DataFrame\n",
        "df = pd.DataFrame(product_embedding)"
      ],
      "metadata": {
        "id": "5pvbvd2tCbeg"
      },
      "execution_count": null,
      "outputs": []
    },
    {
      "cell_type": "code",
      "source": [
        "df.to_parquet('embedding.parquet', engine='pyarrow')"
      ],
      "metadata": {
        "id": "QxllOQgIM1Qd"
      },
      "execution_count": null,
      "outputs": []
    },
    {
      "cell_type": "code",
      "source": [
        "!cp ./embedding.parquet ./drive/MyDrive/Colab_Notebooks/MACS_37000/final/data"
      ],
      "metadata": {
        "id": "xLb7Y5liM8Mm"
      },
      "execution_count": null,
      "outputs": []
    },
    {
      "cell_type": "markdown",
      "source": [
        "## Upload Data to pinecone"
      ],
      "metadata": {
        "id": "c5TAttnMA8qN"
      }
    },
    {
      "cell_type": "markdown",
      "source": [
        "Afer acquiring the embedding data, we upload it to the pinecone dataabase"
      ],
      "metadata": {
        "id": "T45rD-_qROwR"
      }
    },
    {
      "cell_type": "code",
      "source": [
        "!pip install pinecone-client"
      ],
      "metadata": {
        "colab": {
          "base_uri": "https://localhost:8080/"
        },
        "id": "ogk2629xCEo3",
        "outputId": "b6ded56d-7762-4cae-ff7a-a46348391a19"
      },
      "execution_count": null,
      "outputs": [
        {
          "output_type": "stream",
          "name": "stdout",
          "text": [
            "Collecting pinecone-client\n",
            "  Downloading pinecone_client-4.1.0-py3-none-any.whl (215 kB)\n",
            "\u001b[?25l     \u001b[90m━━━━━━━━━━━━━━━━━━━━━━━━━━━━━━━━━━━━━━━━\u001b[0m \u001b[32m0.0/215.5 kB\u001b[0m \u001b[31m?\u001b[0m eta \u001b[36m-:--:--\u001b[0m\r\u001b[2K     \u001b[91m━━━━━━━━━━━━━━━━━━━━━━━━\u001b[0m\u001b[91m╸\u001b[0m\u001b[90m━━━━━━━━━━━━━━━\u001b[0m \u001b[32m133.1/215.5 kB\u001b[0m \u001b[31m3.8 MB/s\u001b[0m eta \u001b[36m0:00:01\u001b[0m\r\u001b[2K     \u001b[90m━━━━━━━━━━━━━━━━━━━━━━━━━━━━━━━━━━━━━━━━\u001b[0m \u001b[32m215.5/215.5 kB\u001b[0m \u001b[31m4.2 MB/s\u001b[0m eta \u001b[36m0:00:00\u001b[0m\n",
            "\u001b[?25hRequirement already satisfied: certifi>=2019.11.17 in /usr/local/lib/python3.10/dist-packages (from pinecone-client) (2024.2.2)\n",
            "Requirement already satisfied: tqdm>=4.64.1 in /usr/local/lib/python3.10/dist-packages (from pinecone-client) (4.66.4)\n",
            "Requirement already satisfied: typing-extensions>=3.7.4 in /usr/local/lib/python3.10/dist-packages (from pinecone-client) (4.11.0)\n",
            "Requirement already satisfied: urllib3>=1.26.0 in /usr/local/lib/python3.10/dist-packages (from pinecone-client) (2.0.7)\n",
            "Installing collected packages: pinecone-client\n",
            "Successfully installed pinecone-client-4.1.0\n"
          ]
        }
      ]
    },
    {
      "cell_type": "code",
      "source": [
        "from google.colab import drive\n",
        "\n",
        "drive.mount('/content/drive')"
      ],
      "metadata": {
        "colab": {
          "base_uri": "https://localhost:8080/"
        },
        "id": "2_UMYc4aBE2-",
        "outputId": "98dd69d5-a7c0-47b1-ce04-514e3e0e27a9"
      },
      "execution_count": null,
      "outputs": [
        {
          "output_type": "stream",
          "name": "stdout",
          "text": [
            "Mounted at /content/drive\n"
          ]
        }
      ]
    },
    {
      "cell_type": "code",
      "source": [
        "!cp ./drive/MyDrive/Colab_Notebooks/MACS_37000/final/data/embedding.parquet ."
      ],
      "metadata": {
        "id": "a4Ed80p8BADW"
      },
      "execution_count": null,
      "outputs": []
    },
    {
      "cell_type": "code",
      "source": [
        "import pandas as pd\n",
        "\n",
        "df = pd.read_parquet('embedding.parquet')"
      ],
      "metadata": {
        "id": "cWjbuDadBeXF"
      },
      "execution_count": null,
      "outputs": []
    },
    {
      "cell_type": "code",
      "source": [
        "df.head()"
      ],
      "metadata": {
        "colab": {
          "base_uri": "https://localhost:8080/",
          "height": 206
        },
        "id": "AJYuriRDBzKM",
        "outputId": "674af047-cc2a-4c58-8d21-5984e5518111"
      },
      "execution_count": null,
      "outputs": [
        {
          "output_type": "execute_result",
          "data": {
            "text/plain": [
              "  parent_asin  average_rating  \\\n",
              "0  B08BHN9PK5             4.6   \n",
              "1  B08R39MRDW             4.1   \n",
              "2  B077KJHCJ4             4.3   \n",
              "3  B0811M2JG9             2.0   \n",
              "4  B07SB2892S             4.3   \n",
              "\n",
              "                                           embedding  \\\n",
              "0  [0.0014340028865262866, 0.003454748773947358, ...   \n",
              "1  [0.0014305035583674908, 0.002265076618641615, ...   \n",
              "2  [0.001429803785867989, 0.003589642234146595, 0...   \n",
              "3  [0.0014319033361971378, -0.0003840545250568539...   \n",
              "4  [0.0014312033308669925, 0.0009405110613442957,...   \n",
              "\n",
              "                                               title  price  \\\n",
              "0  YUEDGE 5 Pairs Men's Moisture Control Cushione...    NaN   \n",
              "1  DouBCQ Women's Palazzo Lounge Wide Leg Casual ...    NaN   \n",
              "2  Pastel by Vivienne Honey Vanilla Girls' Trapez...    NaN   \n",
              "3                                   Mento Streamtail  29.81   \n",
              "4  RONNOX Women's 3-Pairs Bright Colored Calf Com...  17.99   \n",
              "\n",
              "                                         description  \n",
              "0                                               None  \n",
              "1                                               None  \n",
              "2                                               None  \n",
              "3  Slip on the Women's Mento and you're ready to ...  \n",
              "4  Ronnox Calf Sleeves - Allowing Your Body to Pe...  "
            ],
            "text/html": [
              "\n",
              "  <div id=\"df-a7c8c182-571e-426a-b929-04b786df4890\" class=\"colab-df-container\">\n",
              "    <div>\n",
              "<style scoped>\n",
              "    .dataframe tbody tr th:only-of-type {\n",
              "        vertical-align: middle;\n",
              "    }\n",
              "\n",
              "    .dataframe tbody tr th {\n",
              "        vertical-align: top;\n",
              "    }\n",
              "\n",
              "    .dataframe thead th {\n",
              "        text-align: right;\n",
              "    }\n",
              "</style>\n",
              "<table border=\"1\" class=\"dataframe\">\n",
              "  <thead>\n",
              "    <tr style=\"text-align: right;\">\n",
              "      <th></th>\n",
              "      <th>parent_asin</th>\n",
              "      <th>average_rating</th>\n",
              "      <th>embedding</th>\n",
              "      <th>title</th>\n",
              "      <th>price</th>\n",
              "      <th>description</th>\n",
              "    </tr>\n",
              "  </thead>\n",
              "  <tbody>\n",
              "    <tr>\n",
              "      <th>0</th>\n",
              "      <td>B08BHN9PK5</td>\n",
              "      <td>4.6</td>\n",
              "      <td>[0.0014340028865262866, 0.003454748773947358, ...</td>\n",
              "      <td>YUEDGE 5 Pairs Men's Moisture Control Cushione...</td>\n",
              "      <td>NaN</td>\n",
              "      <td>None</td>\n",
              "    </tr>\n",
              "    <tr>\n",
              "      <th>1</th>\n",
              "      <td>B08R39MRDW</td>\n",
              "      <td>4.1</td>\n",
              "      <td>[0.0014305035583674908, 0.002265076618641615, ...</td>\n",
              "      <td>DouBCQ Women's Palazzo Lounge Wide Leg Casual ...</td>\n",
              "      <td>NaN</td>\n",
              "      <td>None</td>\n",
              "    </tr>\n",
              "    <tr>\n",
              "      <th>2</th>\n",
              "      <td>B077KJHCJ4</td>\n",
              "      <td>4.3</td>\n",
              "      <td>[0.001429803785867989, 0.003589642234146595, 0...</td>\n",
              "      <td>Pastel by Vivienne Honey Vanilla Girls' Trapez...</td>\n",
              "      <td>NaN</td>\n",
              "      <td>None</td>\n",
              "    </tr>\n",
              "    <tr>\n",
              "      <th>3</th>\n",
              "      <td>B0811M2JG9</td>\n",
              "      <td>2.0</td>\n",
              "      <td>[0.0014319033361971378, -0.0003840545250568539...</td>\n",
              "      <td>Mento Streamtail</td>\n",
              "      <td>29.81</td>\n",
              "      <td>Slip on the Women's Mento and you're ready to ...</td>\n",
              "    </tr>\n",
              "    <tr>\n",
              "      <th>4</th>\n",
              "      <td>B07SB2892S</td>\n",
              "      <td>4.3</td>\n",
              "      <td>[0.0014312033308669925, 0.0009405110613442957,...</td>\n",
              "      <td>RONNOX Women's 3-Pairs Bright Colored Calf Com...</td>\n",
              "      <td>17.99</td>\n",
              "      <td>Ronnox Calf Sleeves - Allowing Your Body to Pe...</td>\n",
              "    </tr>\n",
              "  </tbody>\n",
              "</table>\n",
              "</div>\n",
              "    <div class=\"colab-df-buttons\">\n",
              "\n",
              "  <div class=\"colab-df-container\">\n",
              "    <button class=\"colab-df-convert\" onclick=\"convertToInteractive('df-a7c8c182-571e-426a-b929-04b786df4890')\"\n",
              "            title=\"Convert this dataframe to an interactive table.\"\n",
              "            style=\"display:none;\">\n",
              "\n",
              "  <svg xmlns=\"http://www.w3.org/2000/svg\" height=\"24px\" viewBox=\"0 -960 960 960\">\n",
              "    <path d=\"M120-120v-720h720v720H120Zm60-500h600v-160H180v160Zm220 220h160v-160H400v160Zm0 220h160v-160H400v160ZM180-400h160v-160H180v160Zm440 0h160v-160H620v160ZM180-180h160v-160H180v160Zm440 0h160v-160H620v160Z\"/>\n",
              "  </svg>\n",
              "    </button>\n",
              "\n",
              "  <style>\n",
              "    .colab-df-container {\n",
              "      display:flex;\n",
              "      gap: 12px;\n",
              "    }\n",
              "\n",
              "    .colab-df-convert {\n",
              "      background-color: #E8F0FE;\n",
              "      border: none;\n",
              "      border-radius: 50%;\n",
              "      cursor: pointer;\n",
              "      display: none;\n",
              "      fill: #1967D2;\n",
              "      height: 32px;\n",
              "      padding: 0 0 0 0;\n",
              "      width: 32px;\n",
              "    }\n",
              "\n",
              "    .colab-df-convert:hover {\n",
              "      background-color: #E2EBFA;\n",
              "      box-shadow: 0px 1px 2px rgba(60, 64, 67, 0.3), 0px 1px 3px 1px rgba(60, 64, 67, 0.15);\n",
              "      fill: #174EA6;\n",
              "    }\n",
              "\n",
              "    .colab-df-buttons div {\n",
              "      margin-bottom: 4px;\n",
              "    }\n",
              "\n",
              "    [theme=dark] .colab-df-convert {\n",
              "      background-color: #3B4455;\n",
              "      fill: #D2E3FC;\n",
              "    }\n",
              "\n",
              "    [theme=dark] .colab-df-convert:hover {\n",
              "      background-color: #434B5C;\n",
              "      box-shadow: 0px 1px 3px 1px rgba(0, 0, 0, 0.15);\n",
              "      filter: drop-shadow(0px 1px 2px rgba(0, 0, 0, 0.3));\n",
              "      fill: #FFFFFF;\n",
              "    }\n",
              "  </style>\n",
              "\n",
              "    <script>\n",
              "      const buttonEl =\n",
              "        document.querySelector('#df-a7c8c182-571e-426a-b929-04b786df4890 button.colab-df-convert');\n",
              "      buttonEl.style.display =\n",
              "        google.colab.kernel.accessAllowed ? 'block' : 'none';\n",
              "\n",
              "      async function convertToInteractive(key) {\n",
              "        const element = document.querySelector('#df-a7c8c182-571e-426a-b929-04b786df4890');\n",
              "        const dataTable =\n",
              "          await google.colab.kernel.invokeFunction('convertToInteractive',\n",
              "                                                    [key], {});\n",
              "        if (!dataTable) return;\n",
              "\n",
              "        const docLinkHtml = 'Like what you see? Visit the ' +\n",
              "          '<a target=\"_blank\" href=https://colab.research.google.com/notebooks/data_table.ipynb>data table notebook</a>'\n",
              "          + ' to learn more about interactive tables.';\n",
              "        element.innerHTML = '';\n",
              "        dataTable['output_type'] = 'display_data';\n",
              "        await google.colab.output.renderOutput(dataTable, element);\n",
              "        const docLink = document.createElement('div');\n",
              "        docLink.innerHTML = docLinkHtml;\n",
              "        element.appendChild(docLink);\n",
              "      }\n",
              "    </script>\n",
              "  </div>\n",
              "\n",
              "\n",
              "<div id=\"df-2f50bd4a-1cf3-405d-a6b9-ee29fd608bfb\">\n",
              "  <button class=\"colab-df-quickchart\" onclick=\"quickchart('df-2f50bd4a-1cf3-405d-a6b9-ee29fd608bfb')\"\n",
              "            title=\"Suggest charts\"\n",
              "            style=\"display:none;\">\n",
              "\n",
              "<svg xmlns=\"http://www.w3.org/2000/svg\" height=\"24px\"viewBox=\"0 0 24 24\"\n",
              "     width=\"24px\">\n",
              "    <g>\n",
              "        <path d=\"M19 3H5c-1.1 0-2 .9-2 2v14c0 1.1.9 2 2 2h14c1.1 0 2-.9 2-2V5c0-1.1-.9-2-2-2zM9 17H7v-7h2v7zm4 0h-2V7h2v10zm4 0h-2v-4h2v4z\"/>\n",
              "    </g>\n",
              "</svg>\n",
              "  </button>\n",
              "\n",
              "<style>\n",
              "  .colab-df-quickchart {\n",
              "      --bg-color: #E8F0FE;\n",
              "      --fill-color: #1967D2;\n",
              "      --hover-bg-color: #E2EBFA;\n",
              "      --hover-fill-color: #174EA6;\n",
              "      --disabled-fill-color: #AAA;\n",
              "      --disabled-bg-color: #DDD;\n",
              "  }\n",
              "\n",
              "  [theme=dark] .colab-df-quickchart {\n",
              "      --bg-color: #3B4455;\n",
              "      --fill-color: #D2E3FC;\n",
              "      --hover-bg-color: #434B5C;\n",
              "      --hover-fill-color: #FFFFFF;\n",
              "      --disabled-bg-color: #3B4455;\n",
              "      --disabled-fill-color: #666;\n",
              "  }\n",
              "\n",
              "  .colab-df-quickchart {\n",
              "    background-color: var(--bg-color);\n",
              "    border: none;\n",
              "    border-radius: 50%;\n",
              "    cursor: pointer;\n",
              "    display: none;\n",
              "    fill: var(--fill-color);\n",
              "    height: 32px;\n",
              "    padding: 0;\n",
              "    width: 32px;\n",
              "  }\n",
              "\n",
              "  .colab-df-quickchart:hover {\n",
              "    background-color: var(--hover-bg-color);\n",
              "    box-shadow: 0 1px 2px rgba(60, 64, 67, 0.3), 0 1px 3px 1px rgba(60, 64, 67, 0.15);\n",
              "    fill: var(--button-hover-fill-color);\n",
              "  }\n",
              "\n",
              "  .colab-df-quickchart-complete:disabled,\n",
              "  .colab-df-quickchart-complete:disabled:hover {\n",
              "    background-color: var(--disabled-bg-color);\n",
              "    fill: var(--disabled-fill-color);\n",
              "    box-shadow: none;\n",
              "  }\n",
              "\n",
              "  .colab-df-spinner {\n",
              "    border: 2px solid var(--fill-color);\n",
              "    border-color: transparent;\n",
              "    border-bottom-color: var(--fill-color);\n",
              "    animation:\n",
              "      spin 1s steps(1) infinite;\n",
              "  }\n",
              "\n",
              "  @keyframes spin {\n",
              "    0% {\n",
              "      border-color: transparent;\n",
              "      border-bottom-color: var(--fill-color);\n",
              "      border-left-color: var(--fill-color);\n",
              "    }\n",
              "    20% {\n",
              "      border-color: transparent;\n",
              "      border-left-color: var(--fill-color);\n",
              "      border-top-color: var(--fill-color);\n",
              "    }\n",
              "    30% {\n",
              "      border-color: transparent;\n",
              "      border-left-color: var(--fill-color);\n",
              "      border-top-color: var(--fill-color);\n",
              "      border-right-color: var(--fill-color);\n",
              "    }\n",
              "    40% {\n",
              "      border-color: transparent;\n",
              "      border-right-color: var(--fill-color);\n",
              "      border-top-color: var(--fill-color);\n",
              "    }\n",
              "    60% {\n",
              "      border-color: transparent;\n",
              "      border-right-color: var(--fill-color);\n",
              "    }\n",
              "    80% {\n",
              "      border-color: transparent;\n",
              "      border-right-color: var(--fill-color);\n",
              "      border-bottom-color: var(--fill-color);\n",
              "    }\n",
              "    90% {\n",
              "      border-color: transparent;\n",
              "      border-bottom-color: var(--fill-color);\n",
              "    }\n",
              "  }\n",
              "</style>\n",
              "\n",
              "  <script>\n",
              "    async function quickchart(key) {\n",
              "      const quickchartButtonEl =\n",
              "        document.querySelector('#' + key + ' button');\n",
              "      quickchartButtonEl.disabled = true;  // To prevent multiple clicks.\n",
              "      quickchartButtonEl.classList.add('colab-df-spinner');\n",
              "      try {\n",
              "        const charts = await google.colab.kernel.invokeFunction(\n",
              "            'suggestCharts', [key], {});\n",
              "      } catch (error) {\n",
              "        console.error('Error during call to suggestCharts:', error);\n",
              "      }\n",
              "      quickchartButtonEl.classList.remove('colab-df-spinner');\n",
              "      quickchartButtonEl.classList.add('colab-df-quickchart-complete');\n",
              "    }\n",
              "    (() => {\n",
              "      let quickchartButtonEl =\n",
              "        document.querySelector('#df-2f50bd4a-1cf3-405d-a6b9-ee29fd608bfb button');\n",
              "      quickchartButtonEl.style.display =\n",
              "        google.colab.kernel.accessAllowed ? 'block' : 'none';\n",
              "    })();\n",
              "  </script>\n",
              "</div>\n",
              "\n",
              "    </div>\n",
              "  </div>\n"
            ],
            "application/vnd.google.colaboratory.intrinsic+json": {
              "type": "dataframe",
              "variable_name": "df"
            }
          },
          "metadata": {},
          "execution_count": 4
        }
      ]
    },
    {
      "cell_type": "code",
      "source": [
        "# check the size\n",
        "len(df.iloc[0]['embedding'])"
      ],
      "metadata": {
        "colab": {
          "base_uri": "https://localhost:8080/"
        },
        "id": "bMdY-o7lB2gy",
        "outputId": "873ac04f-c5f9-41dd-ab92-8beb9e3ce1fa"
      },
      "execution_count": null,
      "outputs": [
        {
          "output_type": "execute_result",
          "data": {
            "text/plain": [
              "128"
            ]
          },
          "metadata": {},
          "execution_count": 6
        }
      ]
    },
    {
      "cell_type": "code",
      "source": [
        "from pinecone import Pinecone\n",
        "from tqdm import tqdm\n",
        "import math\n",
        "\n",
        "pc = Pinecone(api_key=\"\")\n",
        "index = pc.Index(\"node-embed\")"
      ],
      "metadata": {
        "id": "ELuVDEyGBd0m"
      },
      "execution_count": null,
      "outputs": []
    },
    {
      "cell_type": "code",
      "source": [
        "products = df.to_dict(orient='records')"
      ],
      "metadata": {
        "id": "VKEq5CA5CR88"
      },
      "execution_count": null,
      "outputs": []
    },
    {
      "cell_type": "code",
      "source": [
        "def upload_batch(raw_items):\n",
        "  items_to_upsert = []\n",
        "  for x in raw_items:\n",
        "    if math.isnan(x[\"price\"]):\n",
        "      x[\"price\"] = -1\n",
        "    if x['description'] == None:\n",
        "      x['description'] = \"\"\n",
        "    if x['title'] == None:\n",
        "      x['title'] = \"\"\n",
        "\n",
        "    item_to_upsert = {\n",
        "      \"id\": x['parent_asin'],\n",
        "      \"values\": x['embedding'],\n",
        "      \"metadata\" : {\n",
        "        \"title\": x['title'], # sparse data\n",
        "        \"description\": x['description'],\n",
        "        \"average_rating\": x['average_rating'],\n",
        "        \"price\": x['price']}\n",
        "    }\n",
        "    items_to_upsert.append(item_to_upsert)\n",
        "\n",
        "  try:\n",
        "    index.upsert(items_to_upsert)\n",
        "  except Exception as e:\n",
        "    print(e)\n",
        "    print()"
      ],
      "metadata": {
        "id": "4UAA_lwPGTIn"
      },
      "execution_count": null,
      "outputs": []
    },
    {
      "cell_type": "code",
      "source": [
        "# upload the embedding in the size of 100\n",
        "segment_size = 100\n",
        "num_segments = (len(products) + segment_size - 1) // segment_size\n",
        "for i in tqdm(range(0, len(products), segment_size), total=num_segments, desc=\"Processing segments\"):\n",
        "    products_segment = products[i:i + segment_size]\n",
        "    upload_batch(products_segment)"
      ],
      "metadata": {
        "colab": {
          "base_uri": "https://localhost:8080/"
        },
        "id": "Oe3x3QmSGzIL",
        "outputId": "7374d6ae-9dc4-449b-f9ea-38384ca92ece"
      },
      "execution_count": null,
      "outputs": [
        {
          "output_type": "stream",
          "name": "stderr",
          "text": [
            "Processing segments: 100%|██████████| 8262/8262 [47:49<00:00,  2.88it/s]\n"
          ]
        }
      ]
    }
  ]
}